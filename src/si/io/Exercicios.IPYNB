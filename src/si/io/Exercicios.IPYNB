{
 "cells": [
  {
   "metadata": {},
   "cell_type": "markdown",
   "source": "## Exercicio 1",
   "id": "3985f3a47f41bc96"
  },
  {
   "metadata": {
    "jupyter": {
     "is_executing": true
    }
   },
   "cell_type": "code",
   "source": [
    "from csv_file import *\n",
    "from data_file import *\n",
    "import pandas as pd\n",
    "import numpy as np"
   ],
   "id": "af6a56722a269cc2",
   "outputs": [],
   "execution_count": null
  },
  {
   "metadata": {},
   "cell_type": "code",
   "outputs": [],
   "execution_count": null,
   "source": "iris_data = read_csv('iris.csv')",
   "id": "e9095591751bec09"
  },
  {
   "metadata": {},
   "cell_type": "code",
   "outputs": [],
   "execution_count": null,
   "source": [
    "penultimate = iris_data[:-2]\n",
    "print(penultimate)\n",
    "\n",
    "penultimate.shape"
   ],
   "id": "d1932160273dbb8d"
  },
  {
   "metadata": {},
   "cell_type": "code",
   "outputs": [],
   "execution_count": null,
   "source": [
    "last10 = iris_Data[-10:4]\n",
    "mean_last10 = np.mean(last10, axis = 0)\n",
    "\n",
    "print(mean_last10)"
   ],
   "id": "8f4cb386779911b3"
  },
  {
   "metadata": {},
   "cell_type": "code",
   "outputs": [],
   "execution_count": null,
   "source": [
    "independent_variables = iris_data[:,:4]\n",
    "\n",
    "filter_6 = iris_data[np.all(independent_variables <= 6, axis = 1)]\n",
    "print(filter_6)"
   ],
   "id": "f8b11a71b2ca5ecc"
  },
  {
   "metadata": {},
   "cell_type": "code",
   "outputs": [],
   "execution_count": null,
   "source": [
    "labels = iris_data[:,:-1]\n",
    "non_setosa_sample = iris_data[labels != 'Iris-setosa']\n",
    "print(non_setosa_sample)"
   ],
   "id": "14a74e1091bb6eb6"
  },
  {
   "metadata": {},
   "cell_type": "markdown",
   "source": "## Exercicio 2",
   "id": "f024b534a728e0a6"
  },
  {
   "metadata": {},
   "cell_type": "code",
   "outputs": [],
   "execution_count": null,
   "source": [
    "class dataset:\n",
    "    def __init__(self,X,Y):\n",
    "        self.X = X\n",
    "        self.Y = Y\n",
    "    \n",
    "    def dropna():\n",
    "        rows_nan = np.isnan(self.X).any(axis = 1)\n",
    "            \n",
    "        self.X = self.X[~rows_nan]\n",
    "        self.Y self.Y[~rows_nan]\n",
    "        \n",
    "    def fillna(self, value):\n",
    "        if isinstance(value, (int, float)):  \n",
    "            self.data = np.where(np.isnan(self.data), value, self.data)\n",
    "        elif value == \"mean\":  \n",
    "            means = np.nanmean(self.data, axis=0)  \n",
    "            for i in range(self.data.shape[1]):  \n",
    "                self.data[:, i] = np.where(np.isnan(self.data[:, i]), means[i], self.data[:, i])\n",
    "        elif value == \"median\":  \n",
    "            medians = np.nanmedian(self.data, axis=0)  \n",
    "            for i in range(self.data.shape[1]): \n",
    "                self.data[:, i] = np.where(np.isnan(self.data[:, i]), medians[i], self.data[:, i])\n",
    "        else:\n",
    "            raise ValueError(\"value must be a float, 'mean', or 'median'\")\n",
    "        \n",
    "        return self\n",
    "    \n",
    "    def remove_by_index(self, index):\n",
    "\n",
    "        self.X = np.delete(self.X, index, axis=0)  # Remove row from X\n",
    "        self.y = np.delete(self.y, index, axis=0)  # Remove entry from y\n",
    "        \n",
    "        return self"
   ],
   "id": "60acc14376d40397"
  },
  {
   "metadata": {},
   "cell_type": "markdown",
   "source": "## Exercicio 3",
   "id": "740b5ded3d1bfe39"
  },
  {
   "metadata": {},
   "cell_type": "code",
   "outputs": [],
   "execution_count": null,
   "source": [
    "import numpy as np\n",
    "from scipy.stats import f_classif\n",
    "\n",
    "class SelectPercentile:\n",
    "    def __init__(self, score_func=f_classif, percentile=10):\n",
    "    \n",
    "        self.score_func = score_func\n",
    "        self.percentile = percentile\n",
    "\n",
    "    def _fit(self, X, y):\n",
    "       \n",
    "        self.F, self.p = self.score_func(X, y)\n",
    "        return self\n",
    "\n",
    "    def _transform(self, X):\n",
    "    \n",
    "        n_features = X.shape[1]\n",
    "        n_selected = int(self.percentile / 100 * n_features)\n",
    "\n",
    "        idx = np.argsort(self.F)[-n_selected:]\n",
    "        \n",
    "        return X[:, idx]\n",
    "    \n",
    "    def fit_transform(self,X,y):\n",
    "        \n",
    "        self._fit(X,y)\n",
    "        return self._transform(X)"
   ],
   "id": "f4c6c0fd318e6007"
  },
  {
   "metadata": {},
   "cell_type": "markdown",
   "source": "## Exercicio 4",
   "id": "6b10585b995a27f"
  },
  {
   "metadata": {},
   "cell_type": "code",
   "outputs": [],
   "execution_count": null,
   "source": [
    "import numpy as np\n",
    "\n",
    "def cosine_distance(x, y):\n",
    "    \n",
    "    x = np.array(x)\n",
    "    y = np.array(y)\n",
    "\n",
    "    dot_product = np.dot(y, x)\n",
    "    norm_x = np.linalg.norm(x)\n",
    "    norm_y = np.linalg.norm(y, axis=1)\n",
    "\n",
    "    similarity = dot_product / (norm_x * norm_y)\n",
    "\n",
    "    distance = 1 - similarity\n",
    "    \n",
    "    return distance\n"
   ],
   "id": "9b35a2f67be470"
  },
  {
   "metadata": {},
   "cell_type": "markdown",
   "source": "## Exercicio 5\n",
   "id": "a4a156fe808cc9be"
  },
  {
   "metadata": {},
   "cell_type": "code",
   "outputs": [],
   "execution_count": null,
   "source": "",
   "id": "d5ca03f1970b2acb"
  }
 ],
 "metadata": {
  "kernelspec": {
   "display_name": "Python 3",
   "language": "python",
   "name": "python3"
  },
  "language_info": {
   "codemirror_mode": {
    "name": "ipython",
    "version": 2
   },
   "file_extension": ".py",
   "mimetype": "text/x-python",
   "name": "python",
   "nbconvert_exporter": "python",
   "pygments_lexer": "ipython2",
   "version": "2.7.6"
  }
 },
 "nbformat": 4,
 "nbformat_minor": 5
}
